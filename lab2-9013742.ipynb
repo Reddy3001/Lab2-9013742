{
 "cells": [
  {
   "cell_type": "markdown",
   "id": "29c8f4ed",
   "metadata": {},
   "source": [
    "# Lab2 - Data Collection and Pre-processing-Jahnavi Pakanati-9013742"
   ]
  },
  {
   "cell_type": "markdown",
   "id": "18e9baf6",
   "metadata": {},
   "source": [
    "# Importing the required libraries "
   ]
  },
  {
   "cell_type": "code",
   "execution_count": 38,
   "id": "49843bc5",
   "metadata": {},
   "outputs": [],
   "source": [
    "import pandas as pd\n",
    "from dataclasses import dataclass\n"
   ]
  },
  {
   "cell_type": "markdown",
   "id": "47869e7e",
   "metadata": {},
   "source": [
    "# Loading the  raw CSV, displaying the  first 3 rows"
   ]
  },
  {
   "cell_type": "code",
   "execution_count": 39,
   "id": "3b4700fd",
   "metadata": {},
   "outputs": [
    {
     "name": "stdout",
     "output_type": "stream",
     "text": [
      "Columns: ['date', 'customer_id', 'product', 'price', 'quantity', 'coupon_code', 'shipping_city', 'postal_code']\n",
      "          date  customer_id   product   price  quantity coupon_code  \\\n",
      "0   2025-05-11         1000     Scarf  116.39         1     JEANS10   \n",
      "1   2025-05-03         1001   T-Shirt   90.00         4     WINTER5   \n",
      "2   2025-05-02         1002     Dress   80.00         2  SPRINGSALE   \n",
      "3   2025-05-11         1003    Shorts   37.67         5         NaN   \n",
      "4   2025-05-06         1004  Sneakers   52.64         4    SUMMER15   \n",
      "5   2025-05-08         1005    Jacket  100.86         2    SUMMER15   \n",
      "6   2025-05-11         1006     Dress   40.76         4    SUMMER15   \n",
      "7   2025-05-06         1007     Scarf   68.01         3     CLOTH20   \n",
      "8   2025-05-07         1008    Hoodie  108.53         1         NaN   \n",
      "9   2025-05-08         1009     Dress   66.90         4  SPRINGSALE   \n",
      "10  2025-05-04         1010    Jacket   98.25         2     WINTER5   \n",
      "11  2025-05-11         1011    Shorts  119.88         3    SUMMER15   \n",
      "12  2025-05-03         1012     Scarf   27.47         4         NaN   \n",
      "13  2025-05-04         1013     Scarf   82.19         5  SPRINGSALE   \n",
      "14  2025-05-02         1014       Cap   43.30         1         NaN   \n",
      "15  2025-05-06         1015    Shorts   85.28         4    SUMMER15   \n",
      "16  2025-05-10         1016    Hoodie   93.94         5         NaN   \n",
      "17  2025-05-07         1017       Cap   87.55         4    SUMMER15   \n",
      "18  2025-05-04         1018     Jeans   93.58         1     WINTER5   \n",
      "19  2025-05-05         1019  Sneakers   77.34         1    SUMMER15   \n",
      "\n",
      "   shipping_city  postal_code  \n",
      "0        Halifax        80978  \n",
      "1      Vancouver        89625  \n",
      "2       Edmonton        59331  \n",
      "3       Montreal        68039  \n",
      "4      Vancouver        89625  \n",
      "5       Edmonton        59331  \n",
      "6        Calgary        84850  \n",
      "7        Toronto        84243  \n",
      "8         Ottawa        49640  \n",
      "9        Halifax        80978  \n",
      "10        Ottawa        49640  \n",
      "11        Ottawa        49640  \n",
      "12        Ottawa        49640  \n",
      "13     Vancouver        89625  \n",
      "14       Calgary        84850  \n",
      "15      Edmonton        59331  \n",
      "16        Ottawa        49640  \n",
      "17       Calgary        84850  \n",
      "18     Vancouver        89625  \n",
      "19       Halifax        80978  \n"
     ]
    }
   ],
   "source": [
    "df = pd.read_csv(\"data/clothing_transactions.csv\")\n",
    "print(\"Columns:\", df.columns.tolist())\n",
    "print(df.head(20))\n"
   ]
  },
  {
   "cell_type": "markdown",
   "id": "3c8a1a59",
   "metadata": {},
   "source": [
    "#### Justify dict vs namedtuple vs class (1–2 sentences)\n",
    "#### Dictionary--A flexible way to store data using key-value pairs.\n",
    "#### NamedTuple--Like a tuple, but you can access values using names.\n",
    "#### Class--A way to group data and functions together.\n",
    "\n",
    "##### Class is the best option for me because it includes logics like cleaning, transforming and computing totals. So this will allow me to show better modularity and resuability for each transaction object.\n"
   ]
  },
  {
   "cell_type": "markdown",
   "id": "e52f1d02",
   "metadata": {},
   "source": [
    "##### Implementing the transaction class and using to populate "
   ]
  },
  {
   "cell_type": "code",
   "execution_count": 40,
   "id": "db14b3cd",
   "metadata": {},
   "outputs": [],
   "source": [
    "@dataclass\n",
    "class Transaction:\n",
    "    date: str\n",
    "    customer_id: str\n",
    "    product: str\n",
    "    price: float\n",
    "    quantity: int\n",
    "    coupon_code: str\n",
    "    shipping_city: str\n",
    "    postal_code: str\n",
    "\n",
    "    \n"
   ]
  },
  {
   "cell_type": "markdown",
   "id": "02d7546d",
   "metadata": {},
   "source": [
    "##### creating a method as load_transaction  and returning the list of transactions "
   ]
  },
  {
   "cell_type": "code",
   "execution_count": null,
   "id": "5b2b893b",
   "metadata": {},
   "outputs": [
    {
     "ename": "SyntaxError",
     "evalue": "invalid syntax. Perhaps you forgot a comma? (2667166240.py, line 11)",
     "output_type": "error",
     "traceback": [
      "  \u001b[36mCell\u001b[39m\u001b[36m \u001b[39m\u001b[32mIn[41]\u001b[39m\u001b[32m, line 11\u001b[39m\n\u001b[31m    \u001b[39m\u001b[31mshipping_city=row[\"shipping_city\"]\u001b[39m\n                  ^\n\u001b[31mSyntaxError\u001b[39m\u001b[31m:\u001b[39m invalid syntax. Perhaps you forgot a comma?\n"
     ]
    }
   ],
   "source": [
    "def load_transactions(path: str) -> list[Transaction]:\n",
    "    df = pd.read_csv(path)\n",
    "    return [\n",
    "        Transaction(\n",
    "            date=row[\"date\"],\n",
    "            customer_id=row[\"customer_id\"],\n",
    "            product=row[\"product\"],\n",
    "            price=row[\"price\"],\n",
    "            quantity=row[\"quantity\"],\n",
    "            coupon_code=row[\"coupon_code\"],\n",
    "            shipping_city=row[\"shipping_city\"],\n",
    "            postal_code=row[\"postal_code\"],\n",
    "        ) for _, row in df.iterrows()\n",
    "    ]\n"
   ]
  },
  {
   "cell_type": "markdown",
   "id": "e66387e3",
   "metadata": {},
   "source": [
    "##### Creatiing method called profile_transactions_summary for gettting min/max/mean of price and unique city. It is taking the "
   ]
  },
  {
   "cell_type": "code",
   "execution_count": null,
   "id": "4078f414",
   "metadata": {},
   "outputs": [],
   "source": [
    "def profile_transactions_summary(transactions: list) -> None:\n",
    "    prices = [float(t.price) for t in transactions if isinstance(t.price, (int, float))]\n",
    "    cities = {t.shipping_city for t in transactions}\n",
    "    \n",
    "    print(\"Step 5: Quick Profiling\")\n",
    "    print(f\"Price Stats - Min: {min(prices)}, Mean: {sum(prices)/len(prices):.2f}, Max: {max(prices)}\")\n",
    "    print(f\"Unique Shipping Cities: {len(cities)}\\n\")\n",
    "\n"
   ]
  },
  {
   "cell_type": "code",
   "execution_count": null,
   "id": "1429d4a6",
   "metadata": {},
   "outputs": [
    {
     "ename": "TypeError",
     "evalue": "Transaction.__init__() missing 1 required positional argument: 'postal_code'",
     "output_type": "error",
     "traceback": [
      "\u001b[31m---------------------------------------------------------------------------\u001b[39m",
      "\u001b[31mTypeError\u001b[39m                                 Traceback (most recent call last)",
      "\u001b[36mCell\u001b[39m\u001b[36m \u001b[39m\u001b[32mIn[37]\u001b[39m\u001b[32m, line 1\u001b[39m\n\u001b[32m----> \u001b[39m\u001b[32m1\u001b[39m transactions = \u001b[43mload_transactions\u001b[49m\u001b[43m(\u001b[49m\u001b[33;43m\"\u001b[39;49m\u001b[33;43mdata/clothing_transactions.csv\u001b[39;49m\u001b[33;43m\"\u001b[39;49m\u001b[43m)\u001b[49m\n\u001b[32m      2\u001b[39m profile_transactions_summary(transactions)\n",
      "\u001b[36mCell\u001b[39m\u001b[36m \u001b[39m\u001b[32mIn[35]\u001b[39m\u001b[32m, line 3\u001b[39m, in \u001b[36mload_transactions\u001b[39m\u001b[34m(path)\u001b[39m\n\u001b[32m      1\u001b[39m \u001b[38;5;28;01mdef\u001b[39;00m\u001b[38;5;250m \u001b[39m\u001b[34mload_transactions\u001b[39m(path: \u001b[38;5;28mstr\u001b[39m) -> \u001b[38;5;28mlist\u001b[39m[Transaction]:\n\u001b[32m      2\u001b[39m     df = pd.read_csv(path)\n\u001b[32m----> \u001b[39m\u001b[32m3\u001b[39m     \u001b[38;5;28;01mreturn\u001b[39;00m \u001b[43m[\u001b[49m\n\u001b[32m      4\u001b[39m \u001b[43m        \u001b[49m\u001b[43mTransaction\u001b[49m\u001b[43m(\u001b[49m\n\u001b[32m      5\u001b[39m \u001b[43m            \u001b[49m\u001b[43mdate\u001b[49m\u001b[43m=\u001b[49m\u001b[43mrow\u001b[49m\u001b[43m[\u001b[49m\u001b[33;43m\"\u001b[39;49m\u001b[33;43mdate\u001b[39;49m\u001b[33;43m\"\u001b[39;49m\u001b[43m]\u001b[49m\u001b[43m,\u001b[49m\n\u001b[32m      6\u001b[39m \u001b[43m            \u001b[49m\u001b[43mcustomer_id\u001b[49m\u001b[43m=\u001b[49m\u001b[43mrow\u001b[49m\u001b[43m[\u001b[49m\u001b[33;43m\"\u001b[39;49m\u001b[33;43mcustomer_id\u001b[39;49m\u001b[33;43m\"\u001b[39;49m\u001b[43m]\u001b[49m\u001b[43m,\u001b[49m\n\u001b[32m      7\u001b[39m \u001b[43m            \u001b[49m\u001b[43mproduct\u001b[49m\u001b[43m=\u001b[49m\u001b[43mrow\u001b[49m\u001b[43m[\u001b[49m\u001b[33;43m\"\u001b[39;49m\u001b[33;43mproduct\u001b[39;49m\u001b[33;43m\"\u001b[39;49m\u001b[43m]\u001b[49m\u001b[43m,\u001b[49m\n\u001b[32m      8\u001b[39m \u001b[43m            \u001b[49m\u001b[43mprice\u001b[49m\u001b[43m=\u001b[49m\u001b[43mrow\u001b[49m\u001b[43m[\u001b[49m\u001b[33;43m\"\u001b[39;49m\u001b[33;43mprice\u001b[39;49m\u001b[33;43m\"\u001b[39;49m\u001b[43m]\u001b[49m\u001b[43m,\u001b[49m\n\u001b[32m      9\u001b[39m \u001b[43m            \u001b[49m\u001b[43mquantity\u001b[49m\u001b[43m=\u001b[49m\u001b[43mrow\u001b[49m\u001b[43m[\u001b[49m\u001b[33;43m\"\u001b[39;49m\u001b[33;43mquantity\u001b[39;49m\u001b[33;43m\"\u001b[39;49m\u001b[43m]\u001b[49m\u001b[43m,\u001b[49m\n\u001b[32m     10\u001b[39m \u001b[43m            \u001b[49m\u001b[43mcoupon_code\u001b[49m\u001b[43m=\u001b[49m\u001b[43mrow\u001b[49m\u001b[43m[\u001b[49m\u001b[33;43m\"\u001b[39;49m\u001b[33;43mcoupon_code\u001b[39;49m\u001b[33;43m\"\u001b[39;49m\u001b[43m]\u001b[49m\u001b[43m,\u001b[49m\n\u001b[32m     11\u001b[39m \u001b[43m            \u001b[49m\u001b[43mshipping_city\u001b[49m\u001b[43m=\u001b[49m\u001b[43mrow\u001b[49m\u001b[43m[\u001b[49m\u001b[33;43m\"\u001b[39;49m\u001b[33;43mshipping_city\u001b[39;49m\u001b[33;43m\"\u001b[39;49m\u001b[43m]\u001b[49m\n\u001b[32m     12\u001b[39m \u001b[43m        \u001b[49m\u001b[43m)\u001b[49m\u001b[43m \u001b[49m\u001b[38;5;28;43;01mfor\u001b[39;49;00m\u001b[43m \u001b[49m\u001b[43m_\u001b[49m\u001b[43m,\u001b[49m\u001b[43m \u001b[49m\u001b[43mrow\u001b[49m\u001b[43m \u001b[49m\u001b[38;5;129;43;01min\u001b[39;49;00m\u001b[43m \u001b[49m\u001b[43mdf\u001b[49m\u001b[43m.\u001b[49m\u001b[43miterrows\u001b[49m\u001b[43m(\u001b[49m\u001b[43m)\u001b[49m\n\u001b[32m     13\u001b[39m \u001b[43m    \u001b[49m\u001b[43m]\u001b[49m\n",
      "\u001b[36mCell\u001b[39m\u001b[36m \u001b[39m\u001b[32mIn[35]\u001b[39m\u001b[32m, line 4\u001b[39m, in \u001b[36m<listcomp>\u001b[39m\u001b[34m(.0)\u001b[39m\n\u001b[32m      1\u001b[39m \u001b[38;5;28;01mdef\u001b[39;00m\u001b[38;5;250m \u001b[39m\u001b[34mload_transactions\u001b[39m(path: \u001b[38;5;28mstr\u001b[39m) -> \u001b[38;5;28mlist\u001b[39m[Transaction]:\n\u001b[32m      2\u001b[39m     df = pd.read_csv(path)\n\u001b[32m      3\u001b[39m     \u001b[38;5;28;01mreturn\u001b[39;00m [\n\u001b[32m----> \u001b[39m\u001b[32m4\u001b[39m         \u001b[43mTransaction\u001b[49m\u001b[43m(\u001b[49m\n\u001b[32m      5\u001b[39m \u001b[43m            \u001b[49m\u001b[43mdate\u001b[49m\u001b[43m=\u001b[49m\u001b[43mrow\u001b[49m\u001b[43m[\u001b[49m\u001b[33;43m\"\u001b[39;49m\u001b[33;43mdate\u001b[39;49m\u001b[33;43m\"\u001b[39;49m\u001b[43m]\u001b[49m\u001b[43m,\u001b[49m\n\u001b[32m      6\u001b[39m \u001b[43m            \u001b[49m\u001b[43mcustomer_id\u001b[49m\u001b[43m=\u001b[49m\u001b[43mrow\u001b[49m\u001b[43m[\u001b[49m\u001b[33;43m\"\u001b[39;49m\u001b[33;43mcustomer_id\u001b[39;49m\u001b[33;43m\"\u001b[39;49m\u001b[43m]\u001b[49m\u001b[43m,\u001b[49m\n\u001b[32m      7\u001b[39m \u001b[43m            \u001b[49m\u001b[43mproduct\u001b[49m\u001b[43m=\u001b[49m\u001b[43mrow\u001b[49m\u001b[43m[\u001b[49m\u001b[33;43m\"\u001b[39;49m\u001b[33;43mproduct\u001b[39;49m\u001b[33;43m\"\u001b[39;49m\u001b[43m]\u001b[49m\u001b[43m,\u001b[49m\n\u001b[32m      8\u001b[39m \u001b[43m            \u001b[49m\u001b[43mprice\u001b[49m\u001b[43m=\u001b[49m\u001b[43mrow\u001b[49m\u001b[43m[\u001b[49m\u001b[33;43m\"\u001b[39;49m\u001b[33;43mprice\u001b[39;49m\u001b[33;43m\"\u001b[39;49m\u001b[43m]\u001b[49m\u001b[43m,\u001b[49m\n\u001b[32m      9\u001b[39m \u001b[43m            \u001b[49m\u001b[43mquantity\u001b[49m\u001b[43m=\u001b[49m\u001b[43mrow\u001b[49m\u001b[43m[\u001b[49m\u001b[33;43m\"\u001b[39;49m\u001b[33;43mquantity\u001b[39;49m\u001b[33;43m\"\u001b[39;49m\u001b[43m]\u001b[49m\u001b[43m,\u001b[49m\n\u001b[32m     10\u001b[39m \u001b[43m            \u001b[49m\u001b[43mcoupon_code\u001b[49m\u001b[43m=\u001b[49m\u001b[43mrow\u001b[49m\u001b[43m[\u001b[49m\u001b[33;43m\"\u001b[39;49m\u001b[33;43mcoupon_code\u001b[39;49m\u001b[33;43m\"\u001b[39;49m\u001b[43m]\u001b[49m\u001b[43m,\u001b[49m\n\u001b[32m     11\u001b[39m \u001b[43m            \u001b[49m\u001b[43mshipping_city\u001b[49m\u001b[43m=\u001b[49m\u001b[43mrow\u001b[49m\u001b[43m[\u001b[49m\u001b[33;43m\"\u001b[39;49m\u001b[33;43mshipping_city\u001b[39;49m\u001b[33;43m\"\u001b[39;49m\u001b[43m]\u001b[49m\n\u001b[32m     12\u001b[39m \u001b[43m        \u001b[49m\u001b[43m)\u001b[49m \u001b[38;5;28;01mfor\u001b[39;00m _, row \u001b[38;5;129;01min\u001b[39;00m df.iterrows()\n\u001b[32m     13\u001b[39m     ]\n",
      "\u001b[31mTypeError\u001b[39m: Transaction.__init__() missing 1 required positional argument: 'postal_code'"
     ]
    }
   ],
   "source": [
    "transactions = load_transactions(\"data/clothing_transactions.csv\")\n",
    "profile_transactions_summary(transactions)"
   ]
  }
 ],
 "metadata": {
  "kernelspec": {
   "display_name": "Python 3",
   "language": "python",
   "name": "python3"
  },
  "language_info": {
   "codemirror_mode": {
    "name": "ipython",
    "version": 3
   },
   "file_extension": ".py",
   "mimetype": "text/x-python",
   "name": "python",
   "nbconvert_exporter": "python",
   "pygments_lexer": "ipython3",
   "version": "3.11.9"
  }
 },
 "nbformat": 4,
 "nbformat_minor": 5
}
