{
 "cells": [
  {
   "cell_type": "markdown",
   "id": "29c8f4ed",
   "metadata": {},
   "source": [
    "# Lab2 - Data Collection and Pre-processing-Jahnavi Pakanati-9013742"
   ]
  },
  {
   "cell_type": "markdown",
   "id": "18e9baf6",
   "metadata": {},
   "source": [
    "# Importing the required libraries "
   ]
  },
  {
   "cell_type": "code",
   "execution_count": null,
   "id": "49843bc5",
   "metadata": {},
   "outputs": [],
   "source": [
    "import pandas as pd"
   ]
  },
  {
   "cell_type": "markdown",
   "id": "47869e7e",
   "metadata": {},
   "source": [
    "# Loading the  raw CSV, displaying the  first 3 rows"
   ]
  },
  {
   "cell_type": "code",
   "execution_count": 5,
   "id": "3b4700fd",
   "metadata": {},
   "outputs": [
    {
     "name": "stdout",
     "output_type": "stream",
     "text": [
      "Columns: ['date', 'customer_id', 'product', 'price', 'quantity', 'coupon_code', 'shipping_city', 'postal_code']\n",
      "          date  customer_id   product   price  quantity coupon_code  \\\n",
      "0   2025-05-11         1000     Scarf  116.39         1     JEANS10   \n",
      "1   2025-05-03         1001   T-Shirt   90.00         4     WINTER5   \n",
      "2   2025-05-02         1002     Dress   80.00         2  SPRINGSALE   \n",
      "3   2025-05-11         1003    Shorts   37.67         5         NaN   \n",
      "4   2025-05-06         1004  Sneakers   52.64         4    SUMMER15   \n",
      "5   2025-05-08         1005    Jacket  100.86         2    SUMMER15   \n",
      "6   2025-05-11         1006     Dress   40.76         4    SUMMER15   \n",
      "7   2025-05-06         1007     Scarf   68.01         3     CLOTH20   \n",
      "8   2025-05-07         1008    Hoodie  108.53         1         NaN   \n",
      "9   2025-05-08         1009     Dress   66.90         4  SPRINGSALE   \n",
      "10  2025-05-04         1010    Jacket   98.25         2     WINTER5   \n",
      "11  2025-05-11         1011    Shorts  119.88         3    SUMMER15   \n",
      "12  2025-05-03         1012     Scarf   27.47         4         NaN   \n",
      "13  2025-05-04         1013     Scarf   82.19         5  SPRINGSALE   \n",
      "14  2025-05-02         1014       Cap   43.30         1         NaN   \n",
      "15  2025-05-06         1015    Shorts   85.28         4    SUMMER15   \n",
      "16  2025-05-10         1016    Hoodie   93.94         5         NaN   \n",
      "17  2025-05-07         1017       Cap   87.55         4    SUMMER15   \n",
      "18  2025-05-04         1018     Jeans   93.58         1     WINTER5   \n",
      "19  2025-05-05         1019  Sneakers   77.34         1    SUMMER15   \n",
      "\n",
      "   shipping_city  postal_code  \n",
      "0        Halifax        80978  \n",
      "1      Vancouver        89625  \n",
      "2       Edmonton        59331  \n",
      "3       Montreal        68039  \n",
      "4      Vancouver        89625  \n",
      "5       Edmonton        59331  \n",
      "6        Calgary        84850  \n",
      "7        Toronto        84243  \n",
      "8         Ottawa        49640  \n",
      "9        Halifax        80978  \n",
      "10        Ottawa        49640  \n",
      "11        Ottawa        49640  \n",
      "12        Ottawa        49640  \n",
      "13     Vancouver        89625  \n",
      "14       Calgary        84850  \n",
      "15      Edmonton        59331  \n",
      "16        Ottawa        49640  \n",
      "17       Calgary        84850  \n",
      "18     Vancouver        89625  \n",
      "19       Halifax        80978  \n"
     ]
    }
   ],
   "source": [
    "df = pd.read_csv(\"data/clothing_transactions.csv\")\n",
    "print(\"Columns:\", df.columns.tolist())\n",
    "print(df.head(20))\n"
   ]
  }
 ],
 "metadata": {
  "kernelspec": {
   "display_name": "Python 3",
   "language": "python",
   "name": "python3"
  },
  "language_info": {
   "codemirror_mode": {
    "name": "ipython",
    "version": 3
   },
   "file_extension": ".py",
   "mimetype": "text/x-python",
   "name": "python",
   "nbconvert_exporter": "python",
   "pygments_lexer": "ipython3",
   "version": "3.11.9"
  }
 },
 "nbformat": 4,
 "nbformat_minor": 5
}
