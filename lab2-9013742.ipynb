{
 "cells": [
  {
   "cell_type": "markdown",
   "id": "29c8f4ed",
   "metadata": {},
   "source": [
    "# Lab2 - Data Collection and Pre-processing-Jahnavi Pakanati-9013742"
   ]
  },
  {
   "cell_type": "markdown",
   "id": "18e9baf6",
   "metadata": {},
   "source": [
    "# Importing the required libraries "
   ]
  },
  {
   "cell_type": "code",
   "execution_count": 84,
   "id": "49843bc5",
   "metadata": {},
   "outputs": [],
   "source": [
    "import pandas as pd\n",
    "from dataclasses import dataclass\n"
   ]
  },
  {
   "cell_type": "markdown",
   "id": "47869e7e",
   "metadata": {},
   "source": [
    "# Loading the  raw CSV, displaying the  first 3 rows"
   ]
  },
  {
   "cell_type": "code",
   "execution_count": 85,
   "id": "3b4700fd",
   "metadata": {},
   "outputs": [
    {
     "name": "stdout",
     "output_type": "stream",
     "text": [
      "Columns: ['date', 'customer_id', 'product', 'price', 'quantity', 'coupon_code', 'shipping_city', 'postal_code']\n",
      "          date  customer_id   product   price  quantity coupon_code  \\\n",
      "0   2025-05-11         1000     Scarf  116.39         1     JEANS10   \n",
      "1   2025-05-03         1001   T-Shirt   90.00         4     WINTER5   \n",
      "2   2025-05-02         1002     Dress   80.00         2  SPRINGSALE   \n",
      "3   2025-05-11         1003    Shorts   37.67         5         NaN   \n",
      "4   2025-05-06         1004  Sneakers   52.64         4    SUMMER15   \n",
      "5   2025-05-08         1005    Jacket  100.86         2    SUMMER15   \n",
      "6   2025-05-11         1006     Dress   40.76         4    SUMMER15   \n",
      "7   2025-05-06         1007     Scarf   68.01         3     CLOTH20   \n",
      "8   2025-05-07         1008    Hoodie  108.53         1         NaN   \n",
      "9   2025-05-08         1009     Dress   66.90         4  SPRINGSALE   \n",
      "10  2025-05-04         1010    Jacket   98.25         2     WINTER5   \n",
      "11  2025-05-11         1011    Shorts  119.88         3    SUMMER15   \n",
      "12  2025-05-03         1012     Scarf   27.47         4         NaN   \n",
      "13  2025-05-04         1013     Scarf   82.19         5  SPRINGSALE   \n",
      "14  2025-05-02         1014       Cap   43.30         1         NaN   \n",
      "15  2025-05-06         1015    Shorts   85.28         4    SUMMER15   \n",
      "16  2025-05-10         1016    Hoodie   93.94         5         NaN   \n",
      "17  2025-05-07         1017       Cap   87.55         4    SUMMER15   \n",
      "18  2025-05-04         1018     Jeans   93.58         1     WINTER5   \n",
      "19  2025-05-05         1019  Sneakers   77.34         1    SUMMER15   \n",
      "\n",
      "   shipping_city  postal_code  \n",
      "0        Halifax        80978  \n",
      "1      Vancouver        89625  \n",
      "2       Edmonton        59331  \n",
      "3       Montreal        68039  \n",
      "4      Vancouver        89625  \n",
      "5       Edmonton        59331  \n",
      "6        Calgary        84850  \n",
      "7        Toronto        84243  \n",
      "8         Ottawa        49640  \n",
      "9        Halifax        80978  \n",
      "10        Ottawa        49640  \n",
      "11        Ottawa        49640  \n",
      "12        Ottawa        49640  \n",
      "13     Vancouver        89625  \n",
      "14       Calgary        84850  \n",
      "15      Edmonton        59331  \n",
      "16        Ottawa        49640  \n",
      "17       Calgary        84850  \n",
      "18     Vancouver        89625  \n",
      "19       Halifax        80978  \n"
     ]
    }
   ],
   "source": [
    "df = pd.read_csv(\"data/clothing_transactions.csv\")\n",
    "print(\"Columns:\", df.columns.tolist())\n",
    "print(df.head(20))\n"
   ]
  },
  {
   "cell_type": "markdown",
   "id": "3c8a1a59",
   "metadata": {},
   "source": [
    "#### Justify dict vs namedtuple vs class (1–2 sentences)\n",
    "#### Dictionary--A flexible way to store data using key-value pairs.\n",
    "#### NamedTuple--Like a tuple, but you can access values using names.\n",
    "#### Class--A way to group data and functions together.\n",
    "\n",
    "##### Class is the best option for me because it includes logics like cleaning, transforming and computing totals. So this will allow me to show better modularity and resuability for each transaction object.\n"
   ]
  },
  {
   "cell_type": "markdown",
   "id": "e52f1d02",
   "metadata": {},
   "source": [
    "##### Implementing the transaction class and using to populate "
   ]
  },
  {
   "cell_type": "code",
   "execution_count": 86,
   "id": "db14b3cd",
   "metadata": {},
   "outputs": [],
   "source": [
    "@dataclass\n",
    "class Transaction:\n",
    "    date: str\n",
    "    customer_id: str\n",
    "    product: str\n",
    "    price: float\n",
    "    quantity: int\n",
    "    coupon_code: str\n",
    "    shipping_city: str\n",
    "    postal_code: str\n",
    "\n",
    "    \n"
   ]
  },
  {
   "cell_type": "markdown",
   "id": "02d7546d",
   "metadata": {},
   "source": [
    "##### creating a method as load_transaction  and returning the list of transactions"
   ]
  },
  {
   "cell_type": "code",
   "execution_count": 87,
   "id": "5b2b893b",
   "metadata": {},
   "outputs": [],
   "source": [
    "def load_transactions(path: str) -> list[Transaction]:\n",
    "    df = pd.read_csv(path)\n",
    "    return [\n",
    "        Transaction(\n",
    "            date=row[\"date\"],\n",
    "            customer_id=row[\"customer_id\"],\n",
    "            product=row[\"product\"],\n",
    "            price=row[\"price\"],\n",
    "            quantity=row[\"quantity\"],\n",
    "            coupon_code=row[\"coupon_code\"],\n",
    "            shipping_city=row[\"shipping_city\"],\n",
    "            postal_code=row[\"postal_code\"],\n",
    "        ) for _, row in df.iterrows()\n",
    "    ]\n"
   ]
  },
  {
   "cell_type": "markdown",
   "id": "e66387e3",
   "metadata": {},
   "source": [
    "##### Creatiing method called profile_transactions_summary for gettting min/max/mean of price and unique city. It is taking the "
   ]
  },
  {
   "cell_type": "code",
   "execution_count": 88,
   "id": "4078f414",
   "metadata": {},
   "outputs": [],
   "source": [
    "def profile_transactions_summary(list_of_transactions) -> None:\n",
    "    prices = [float(t.price) for t in list_of_transactions if isinstance(t.price, (int, float))]\n",
    "    cities = {t.shipping_city for t in list_of_transactions}\n",
    "    \n",
    "    print(\"Step 5: Quick Profiling\")\n",
    "    print(f\"Price Stats - Minimun: {min(prices)}, Mean: {sum(prices)/len(prices):.2f}, Maximum: {max(prices)}\")\n",
    "    print(f\"Unique Shipping Cities: {len(cities)}\\n\")\n",
    "\n"
   ]
  },
  {
   "cell_type": "code",
   "execution_count": 89,
   "id": "1429d4a6",
   "metadata": {},
   "outputs": [
    {
     "name": "stdout",
     "output_type": "stream",
     "text": [
      "Step 5: Quick Profiling\n",
      "Price Stats - Minimun: 15.02, Mean: 69.35, Maximum: 119.97\n",
      "Unique Shipping Cities: 8\n",
      "\n"
     ]
    }
   ],
   "source": [
    "list_of_transactions= load_transactions(\"data/clothing_transactions.csv\")\n",
    "profile_transactions_summary(list_of_transactions)"
   ]
  },
  {
   "cell_type": "markdown",
   "id": "76d6c71d",
   "metadata": {},
   "source": [
    "##### Injecting the dirty data "
   ]
  },
  {
   "cell_type": "code",
   "execution_count": 90,
   "id": "fe76c1d3",
   "metadata": {},
   "outputs": [],
   "source": [
    "def inject_dirty_values(list_of_transactions) -> None:\n",
    "    if len(list_of_transactions) >= 3:\n",
    "        list_of_transactions[22].price = -373435\n",
    "        list_of_transactions[545].price = \"adfadf\"\n",
    "        list_of_transactions[200].price = \"unkown\"\n",
    "    "
   ]
  },
  {
   "cell_type": "markdown",
   "id": "bc43bcb2",
   "metadata": {},
   "source": [
    "##### Created a function called as clean_invalid_prices and clearning values."
   ]
  },
  {
   "cell_type": "code",
   "execution_count": 91,
   "id": "69a1a046",
   "metadata": {},
   "outputs": [],
   "source": [
    "def clean_invalid_prices(list_of_transactions: list) -> None:\n",
    "    before = sum(1 for t in list_of_transactions if not isinstance(t.price, float))\n",
    "    \n",
    "    for t in list_of_transactions:\n",
    "        try:\n",
    "            t.price = float(t.price)\n",
    "            if t.price < 0:\n",
    "                t.price = 0.0\n",
    "        except:\n",
    "            t.price = 0.0\n",
    "\n",
    "    \n",
    "    after = sum(1 for t in list_of_transactions if not isinstance(t.price, float))\n",
    "    \n",
    "    print(f\"Step 7: Cleaned invalid prices — before: {before}, after: {after}\\n\")\n"
   ]
  },
  {
   "cell_type": "code",
   "execution_count": 92,
   "id": "c85e6770",
   "metadata": {},
   "outputs": [
    {
     "name": "stdout",
     "output_type": "stream",
     "text": [
      "Step 7: Cleaned invalid prices — before: 3, after: 0\n",
      "\n"
     ]
    }
   ],
   "source": [
    "list_of_transactions= load_transactions(\"data/clothing_transactions.csv\")\n",
    "inject_dirty_values(list_of_transactions)\n",
    "clean_invalid_prices(list_of_transactions)"
   ]
  }
 ],
 "metadata": {
  "kernelspec": {
   "display_name": "Python 3",
   "language": "python",
   "name": "python3"
  },
  "language_info": {
   "codemirror_mode": {
    "name": "ipython",
    "version": 3
   },
   "file_extension": ".py",
   "mimetype": "text/x-python",
   "name": "python",
   "nbconvert_exporter": "python",
   "pygments_lexer": "ipython3",
   "version": "3.11.9"
  }
 },
 "nbformat": 4,
 "nbformat_minor": 5
}
